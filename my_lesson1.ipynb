{
 "cells": [
  {
   "cell_type": "markdown",
   "id": "b4e0d888-a547-4d79-bfc6-c8a16d4d11ed",
   "metadata": {},
   "source": [
    "# thuc hanh tri tue nhan tao buoi 1\n",
    "## Noi dung thuc hanh"
   ]
  },
  {
   "cell_type": "markdown",
   "id": "173e9afb-8b01-4a41-a558-2e3194c5dde0",
   "metadata": {},
   "source": [
    "### In chu ra man hinh"
   ]
  },
  {
   "cell_type": "code",
   "execution_count": 1,
   "id": "8db65f54-5cb5-4ef6-a77c-6ec065977896",
   "metadata": {},
   "outputs": [
    {
     "name": "stdout",
     "output_type": "stream",
     "text": [
      "Hello, Python word\n"
     ]
    }
   ],
   "source": [
    "print(\"Hello, Python word\")"
   ]
  },
  {
   "cell_type": "markdown",
   "id": "25d20719-60fc-4359-9453-a2964f2b9502",
   "metadata": {},
   "source": [
    "### chay tap tin python\n"
   ]
  },
  {
   "cell_type": "code",
   "execution_count": 3,
   "id": "4c1f6fcd-4e15-444c-a8e2-3301d1a84c96",
   "metadata": {},
   "outputs": [
    {
     "name": "stdout",
     "output_type": "stream",
     "text": [
      "Hello, Python word\n"
     ]
    }
   ],
   "source": [
    "!python ex0_hello_world.py"
   ]
  },
  {
   "cell_type": "code",
   "execution_count": 4,
   "id": "edfd8e03-8cc6-43a3-9bec-458a6c19c726",
   "metadata": {},
   "outputs": [
    {
     "name": "stdout",
     "output_type": "stream",
     "text": [
      "Hello, Python word\n"
     ]
    }
   ],
   "source": [
    "%run ex0_hello_world.py"
   ]
  },
  {
   "cell_type": "markdown",
   "id": "7838adf9-4b98-4c41-bcc2-f518bd2270f7",
   "metadata": {},
   "source": [
    "### Tinh toan don gian\n"
   ]
  },
  {
   "cell_type": "code",
   "execution_count": 1,
   "id": "4055e417-ff12-4b1c-a825-3d2d0f20677f",
   "metadata": {},
   "outputs": [
    {
     "name": "stdout",
     "output_type": "stream",
     "text": [
      "Calculator basic\n"
     ]
    },
    {
     "name": "stdin",
     "output_type": "stream",
     "text": [
      "Moi ban nhap so a:  3\n",
      "Moi ban nhap so b:  5\n"
     ]
    },
    {
     "name": "stdout",
     "output_type": "stream",
     "text": [
      "c = 3 + 5 = 8\n"
     ]
    }
   ],
   "source": [
    "%run ex1_calc.py"
   ]
  },
  {
   "cell_type": "code",
   "execution_count": 2,
   "id": "6ef63eaf-63a8-40ce-adaa-6a4811c54433",
   "metadata": {},
   "outputs": [
    {
     "name": "stdout",
     "output_type": "stream",
     "text": [
      "Calculator basic\n"
     ]
    },
    {
     "name": "stdin",
     "output_type": "stream",
     "text": [
      "Moi ban nhap so a:  10\n",
      "Moi ban nhap so b:  20\n"
     ]
    },
    {
     "name": "stdout",
     "output_type": "stream",
     "text": [
      "c = 10 + 20 = 30\n"
     ]
    }
   ],
   "source": [
    "print(\"Calculator basic\")\n",
    "a = int(input(\"Moi ban nhap so a: \"))\n",
    "b = int(input(\"Moi ban nhap so b: \"))\n",
    "c = a+b\n",
    "print(\"c = %d + %d = %d\" %(a,b,c))"
   ]
  },
  {
   "cell_type": "markdown",
   "id": "0b973af6-415c-4560-9da8-c5ca49e8e946",
   "metadata": {},
   "source": [
    "### Tính chu vi, diện tích hình tròn\n"
   ]
  },
  {
   "cell_type": "code",
   "execution_count": 2,
   "id": "20cf642d-6a27-4a33-a5a4-9baeb54da0cc",
   "metadata": {},
   "outputs": [
    {
     "name": "stdin",
     "output_type": "stream",
     "text": [
      "nhap ban kinh:  5.0\n"
     ]
    },
    {
     "name": "stdout",
     "output_type": "stream",
     "text": [
      "Chu vi hinh tron: 31.400000000000002\n",
      "Dien tich hinh tron: 78.5\n"
     ]
    }
   ],
   "source": [
    "%run ex3_circle.py"
   ]
  },
  {
   "cell_type": "markdown",
   "id": "22db700d-f406-4c8e-85a4-64983826b006",
   "metadata": {},
   "source": [
    "# Ket thuc"
   ]
  }
 ],
 "metadata": {
  "kernelspec": {
   "display_name": "Python 3 (ipykernel)",
   "language": "python",
   "name": "python3"
  },
  "language_info": {
   "codemirror_mode": {
    "name": "ipython",
    "version": 3
   },
   "file_extension": ".py",
   "mimetype": "text/x-python",
   "name": "python",
   "nbconvert_exporter": "python",
   "pygments_lexer": "ipython3",
   "version": "3.13.5"
  }
 },
 "nbformat": 4,
 "nbformat_minor": 5
}
